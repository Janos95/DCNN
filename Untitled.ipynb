{
 "cells": [
  {
   "cell_type": "code",
   "execution_count": 1,
   "metadata": {
    "collapsed": true
   },
   "outputs": [],
   "source": [
    "th = require 'torch'"
   ]
  },
  {
   "cell_type": "code",
   "execution_count": 2,
   "metadata": {},
   "outputs": [
    {
     "data": {
      "text/plain": [
       "{\n",
       "  deserialize : function: 0x40a4ff48\n",
       "  cat : function: 0x4069cc48\n",
       "  cdata : function: 0x41d25df0\n",
       "  newmetatable : function: 0x40a545e8\n",
       "  atan2 : function: 0x41d160e0\n",
       "  bhistc : function: 0x4069d008\n",
       "  multinomialAlias : function: 0x40a6f920\n",
       "  bitxor : function: 0x41d13af0\n",
       "  zero : function: 0x41d137f8\n",
       "  logNormal : function: 0x41d16270\n",
       "  sigmoid : function: 0x41d16040\n",
       "  getnumcores : function: 0x40a54308\n",
       "  cross : function: 0x41d14090\n",
       "  deserializeFromStorage : function: 0x40a4ff28\n",
       "  inverse : function: 0x41d163b0\n",
       "  le : function: 0x4069ce28\n",
       "  isTypeOf : function: 0x40a44b80\n",
       "  min : function: 0x41d13fc8\n",
       "  prod : function: 0x41d13fa0\n",
       "  ger : function: 0x41d13e10\n",
       "  eq : function: 0x4069ce78\n",
       "  getnumthreads : function: 0x40a542b8\n",
       "  ByteTensor : table: 0x4069b1b0\n",
       "  Timer : table: 0x4069d5c0\n",
       "  addmv : function: 0x41d13e38\n",
       "  lerp : function: 0x41d160b8\n",
       "  match : function: 0x41d13b68\n",
       "  multinomialAliasSetup_ : function: 0x41d161a8\n",
       "  xcorr2 : function: 0x4069cd60\n",
       "  multinomialAliasSetup : function: 0x40a6f900\n",
       "  neg : function: 0x41d16068\n",
       "  DiskFile : table: 0x4069f7c8\n",
       "  pstrf : function: 0x41d16450\n",
       "  bernoulli : function: 0x4069ccc0\n",
       "  _heaptracking : true\n",
       "  mv : function: 0x41d13d98\n",
       "  isTensor : function: 0x40a6f8c0\n",
       "  save : function: 0x40294a28\n",
       "  MemoryFile : table: 0x406a2e58\n",
       "  cremainder : function: 0x41d13c80\n",
       "  Storage : table: 0x406996b0\n",
       "  ge : function: 0x4069ce50\n",
       "  kthvalue : function: 0x4069cb80\n",
       "  geometric : function: 0x4069cc98\n",
       "  ShortStorage : table: 0x40695db0\n",
       "  Tester : table: 0x41a52b78\n",
       "  sin : function: 0x41d15e38\n",
       "  topk : function: 0x4069cb58\n",
       "  trace : function: 0x41d14068\n",
       "  data : function: 0x41d25db0\n",
       "  CmdLine : table: 0x40e611e0\n",
       "  fill : function: 0x41d13820\n",
       "  loadobj : function: 0x40295708\n",
       "  linspace : function: 0x4069d0a8\n",
       "  saveobj : function: 0x40294a28\n",
       "  sum : function: 0x41d13f78\n",
       "  DoubleTensor : table: 0x406a2298\n"
      ]
     },
     "execution_count": 2,
     "metadata": {},
     "output_type": "execute_result"
    },
    {
     "data": {
      "text/plain": [
       "  cmul : function: 0x41d13b90\n",
       "  orgqr : function: 0x41d164c8\n",
       "  serialize : function: 0x40295728\n",
       "  load : function: 0x40295708\n",
       "  test : function: 0x40a6f858\n",
       "  permute : function: 0x40695f88\n",
       "  reshape : function: 0x41d13898\n",
       "  totable : function: 0x40a6f8a0\n",
       "  getconstructortable : function: 0x40a54358\n",
       "  version : function: 0x40a546d8\n",
       "  fmod : function: 0x41d13a50\n",
       "  chunk : function: 0x40a42d10\n",
       "  mean : function: 0x4069cf68\n",
       "  split : function: 0x40a54778\n",
       "  viewAs : function: 0x40e62b78\n",
       "  cmin : function: 0x41d14018\n",
       "  addcdiv : function: 0x41d13d70\n",
       "  mm : function: 0x41d13dc0\n",
       "  view : function: 0x40a514d0\n",
       "  xcorr3 : function: 0x4069cdb0\n",
       "  ShortTensor : table: 0x4069da90\n",
       "  lt : function: 0x4069cdd8\n",
       "  triu : function: 0x4069cc20\n",
       "  repeatTensor : function: 0x40e6fdf0\n",
       "  rshift : function: 0x41d13a28\n",
       "  expandAs : function: 0x40e6c710\n",
       "  eye : function: 0x41d140e0\n",
       "  expand : function: 0x40e6c900\n",
       "  mul : function: 0x41d139b0\n",
       "  sqrt : function: 0x41d15f28\n",
       "  LongTensor : table: 0x4069fea8\n",
       "  getRNGState : function: 0x40a438b0\n",
       "  lshift : function: 0x41d13a00\n",
       "  isequal : function: 0x40a54550\n",
       "  floor : function: 0x41d15fa0\n",
       "  setdefaulttensortype : function: 0x40a44b40\n",
       "  class : function: 0x401de5b8\n",
       "  frac : function: 0x41d15ff0\n",
       "  packageLuaPath : function: 0x40a44ac0\n",
       "  updatethreadlocals : function: 0x41d0efd0\n",
       "  csub : function: 0x41d13988\n",
       "  gesv : function: 0x41d162c0\n",
       "  PipeFile : table: 0x406a0a28\n",
       "  LongStorage : table: 0x406978d8\n",
       "  Allocator : table: 0x40a44990\n",
       "  setRNGState : function: 0x40a43900\n",
       "  Tensor : table: 0x406a2298\n",
       "  diag : function: 0x41d140b8\n",
       "  pointer : function: 0x40a54700\n",
       "  svd : function: 0x41d16388\n",
       "  crshift : function: 0x41d13c30\n",
       "  conv3 : function: 0x4069cd88\n",
       "  initialSeed : function: 0x41d18638\n",
       "  tril : function: 0x4069cbf8\n",
       "  normal : function: 0x41d16220\n",
       "  bitor : function: 0x41d13ac8\n",
       "  all : function: 0x4069cef0\n",
       "  HalfTensor : table: 0x406a3480\n",
       "  rsqrt : function: 0x41d16018\n",
       "  _gen : torch.Generator\n",
       "  scatter : function: 0x41d138e8\n",
       "  Generator : table: 0x41d166b8\n",
       "  addbmm : function: 0x41d13eb0\n",
       "  ormqr : function: 0x41d164f0\n",
       "  symeig : function: 0x41d16338\n",
       "  remainder : function: 0x41d13a78\n",
       "  clamp : function: 0x41d13b40\n",
       "  geqrf : function: 0x41d164a0\n",
       "  qr : function: 0x41d16478\n",
       "  updateerrorhandlers : function: 0x40a54750\n",
       "  metatype : function: 0x40a54660\n",
       "  potrs : function: 0x41d16400\n",
       "  logspace : function: 0x4069d0d0\n",
       "  manualSeed : function: 0x41d18688\n",
       "  eig : function: 0x41d16360\n",
       "  zeros : function: 0x41d13848\n",
       "  median : function: 0x4069cbd0\n",
       "  cosh : function: 0x41d15e10\n",
       "  pushudata : function: 0x40a546b0\n",
       "  sinh : function: 0x41d15e88\n",
       "  File : table: 0x40a543a8\n",
       "  exponential : function: 0x41d16298\n",
       "  log1p : function: 0x4069d120\n",
       "  FloatStorage : table: 0x40697ca8\n",
       "  seed : function: 0x41d181a8\n",
       "  uniform : function: 0x41d161f8\n",
       "  multinomialAlias_ : function: 0x41d161d0\n",
       "  multinomial : function: 0x41d16180\n",
       "  randn : function: 0x41d16158\n",
       "  conv2 : function: 0x4069cd38\n",
       "  dist : function: 0x4069d080\n",
       "  rand : function: 0x41d16130\n",
       "  mod : function: 0x41d13b18\n",
       "  pow : function: 0x41d16108\n",
       "  squeeze : function: 0x4069cce8\n",
       "  cdiv : function: 0x41d13be0\n",
       "  cinv : function: 0x41d16090\n",
       "  gt : function: 0x4069ce00\n",
       "  randperm : function: 0x41d14130\n",
       "  include : function: 0x40a44b00\n",
       "  trunc : function: 0x41d15fc8\n",
       "  ceil : function: 0x41d15f78\n",
       "  nonzero : function: 0x4069cec8\n",
       "  cmax : function: 0x41d14040\n",
       "  cbitxor : function: 0x41d13cf8"
      ]
     },
     "execution_count": 2,
     "metadata": {},
     "output_type": "execute_result"
    },
    {
     "data": {
      "text/plain": [
       "\n",
       "  tanh : function: 0x41d15f00\n",
       "  any : function: 0x4069cf18\n",
       "  equal : function: 0x41d13938\n",
       "  dot : function: 0x41d13910\n",
       "  range : function: 0x41d14108\n",
       "  atan : function: 0x41d15ed8\n",
       "  addr : function: 0x41d13e88\n",
       "  trtrs : function: 0x41d16310\n",
       "  HalfStorage : table: 0x4069a430\n",
       "  tan : function: 0x41d15eb0\n",
       "  renorm : function: 0x4069d058\n",
       "  serializeToStorage : function: 0x40295748\n",
       "  bitand : function: 0x41d13aa0\n",
       "  cos : function: 0x41d15dc0\n",
       "  var : function: 0x4069cf90\n",
       "  exp : function: 0x41d15d98\n",
       "  setmetatable : function: 0x40a54610\n",
       "  cumsum : function: 0x41d13f28\n",
       "  cauchy : function: 0x41d16248\n",
       "  ne : function: 0x4069cea0\n",
       "  cbitand : function: 0x41d13ca8\n",
       "  log : function: 0x4069d0f8\n",
       "  potrf : function: 0x41d163d8\n",
       "  DoubleStorage : table: 0x406996b0\n",
       "  CharStorage : table: 0x40e7d968\n",
       "  asin : function: 0x41d15e60\n",
       "  typename : function: 0x40a54508\n",
       "  histc : function: 0x4069cfe0\n",
       "  std : function: 0x4069cfb8\n",
       "  div : function: 0x41d139d8\n",
       "  abs : function: 0x4069cf40\n",
       "  type : function: 0x40a44b60\n",
       "  sign : function: 0x4069cd10\n",
       "  add : function: 0x41d13960\n",
       "  mode : function: 0x4069cba8\n",
       "  toc : function: 0x40e6fd38\n",
       "  norm : function: 0x4069d030\n",
       "  IntTensor : table: 0x4069ec98\n",
       "  tic : function: 0x40e6fd90\n",
       "  gels : function: 0x41d162e8\n",
       "  factory : function: 0x40a54330\n",
       "  getdefaulttensortype : function: 0x40a51528\n",
       "  isStorage : function: 0x40a6f8e0\n",
       "  cpow : function: 0x41d13bb8\n",
       "  IntStorage : table: 0x40696b58\n",
       "  CharTensor : table: 0x4069c570\n",
       "  setnumthreads : function: 0x40a541a0\n",
       "  FloatTensor : table: 0x406a10b8\n",
       "  TestSuite : function: 0x41a5cfd8\n",
       "  cumprod : function: 0x41d13f50\n",
       "  potri : function: 0x41d16428\n",
       "  ByteStorage : table: 0x40a42810\n",
       "  setenv : function: 0x40a545c0\n",
       "  isatty : function: 0x40a51550\n",
       "  getenv : function: 0x40a54578\n",
       "  acos : function: 0x41d15de8\n",
       "  clshift : function: 0x41d13c08\n",
       "  gather : function: 0x41d138c0\n",
       "  addcmul : function: 0x41d13d48\n",
       "  bmm : function: 0x41d13de8\n",
       "  addmm : function: 0x41d13e60\n",
       "  numel : function: 0x41d13f00\n",
       "  sort : function: 0x41d14158\n",
       "  max : function: 0x41d13ff0\n",
       "  baddbmm : function: 0x41d13ed8\n",
       "  ones : function: 0x41d13870\n",
       "  round : function: 0x41d15f50\n",
       "  getmetatable : function: 0x40a54638\n",
       "  cbitor : function: 0x41d13cd0\n",
       "  random : function: 0x4069cc70\n",
       "  setheaptracking : function: 0x40a54728\n",
       "  cmod : function: 0x41d13d20\n",
       "  cfmod : function: 0x41d13c58\n",
       "}\n"
      ]
     },
     "execution_count": 2,
     "metadata": {},
     "output_type": "execute_result"
    }
   ],
   "source": [
    "th"
   ]
  },
  {
   "cell_type": "code",
   "execution_count": 3,
   "metadata": {},
   "outputs": [
    {
     "data": {
      "text/plain": [
       " 1\n",
       " 1\n",
       " 1\n",
       " 1\n",
       " 1\n",
       "[torch.DoubleTensor of size 5]\n",
       "\n"
      ]
     },
     "execution_count": 3,
     "metadata": {},
     "output_type": "execute_result"
    }
   ],
   "source": [
    "th.ones(5)"
   ]
  },
  {
   "cell_type": "code",
   "execution_count": 4,
   "metadata": {
    "collapsed": true
   },
   "outputs": [],
   "source": [
    "image = require 'image'"
   ]
  },
  {
   "cell_type": "code",
   "execution_count": 5,
   "metadata": {
    "collapsed": true
   },
   "outputs": [],
   "source": [
    "i = image.fabio()"
   ]
  },
  {
   "cell_type": "code",
   "execution_count": 10,
   "metadata": {},
   "outputs": [
    {
     "data": {
      "text/plain": [
       " 257\n",
       " 271\n",
       "[torch.LongStorage of size 2]\n",
       "\n"
      ]
     },
     "execution_count": 10,
     "metadata": {},
     "output_type": "execute_result"
    }
   ],
   "source": [
    "i:size()"
   ]
  },
  {
   "cell_type": "code",
   "execution_count": 11,
   "metadata": {},
   "outputs": [
    {
     "data": {
      "text/plain": [
       "\n"
      ]
     },
     "execution_count": 11,
     "metadata": {},
     "output_type": "execute_result"
    },
    {
     "data": {
      "image/png": "[encoded data removed]",
      "text/plain": [
       "Console does not support images"
      ]
     },
     "metadata": {
      "image/png": {
       "height": 257,
       "width": 271
      }
     },
     "output_type": "display_data"
    }
   ],
   "source": [
    "itorch.image(i)"
   ]
  },
  {
   "cell_type": "code",
   "execution_count": 12,
   "metadata": {},
   "outputs": [
    {
     "data": {
      "text/plain": [
       "Lenet5\n",
       "nn.Sequential {\n",
       "  [input -> (1) -> (2) -> (3) -> (4) -> (5) -> (6) -> (7) -> (8) -> (9) -> (10) -> (11) -> (12) -> (13) -> output]\n",
       "  (1): nn.SpatialConvolution(3 -> 6, 5x5)\n",
       "  (2): nn.ReLU\n",
       "  (3): nn.SpatialMaxPooling(2x2, 2,2)\n",
       "  (4): nn.SpatialConvolution(6 -> 16, 5x5)\n",
       "  (5): nn.ReLU\n",
       "  (6): nn.SpatialMaxPooling(2x2, 2,2)\n",
       "  (7): nn.View(400)\n",
       "  (8): nn.Linear(400 -> 120)\n",
       "  (9): nn.ReLU\n",
       "  (10): nn.Linear(120 -> 84)\n",
       "  (11): nn.ReLU\n",
       "  (12): nn.Linear(84 -> 10)\n",
       "  (13): nn.LogSoftMax\n",
       "}\t\n"
      ]
     },
     "execution_count": 12,
     "metadata": {},
     "output_type": "execute_result"
    },
    {
     "data": {
      "text/plain": [
       "# StochasticGradient: training\t\n"
      ]
     },
     "execution_count": 12,
     "metadata": {},
     "output_type": "execute_result"
    },
    {
     "data": {
      "text/plain": [
       "# current error = 2.1251173844723\t\n"
      ]
     },
     "execution_count": 12,
     "metadata": {},
     "output_type": "execute_result"
    },
    {
     "data": {
      "text/plain": [
       "# current error = 1.7951921002608\t\n"
      ]
     },
     "execution_count": 12,
     "metadata": {},
     "output_type": "execute_result"
    },
    {
     "data": {
      "text/plain": [
       "# current error = 1.6227423175545\t\n"
      ]
     },
     "execution_count": 12,
     "metadata": {},
     "output_type": "execute_result"
    },
    {
     "data": {
      "text/plain": [
       "# current error = 1.5254841546755\t\n"
      ]
     },
     "execution_count": 12,
     "metadata": {},
     "output_type": "execute_result"
    },
    {
     "data": {
      "text/plain": [
       "# current error = 1.4438838134926\t\n",
       "# StochasticGradient: you have reached the maximum number of iterations\t\n",
       "# training error = 1.4438838134926\t\n"
      ]
     },
     "execution_count": 12,
     "metadata": {},
     "output_type": "execute_result"
    },
    {
     "data": {
      "text/plain": [
       "4509\t45.09 % \t\n",
       "\n"
      ]
     },
     "execution_count": 12,
     "metadata": {},
     "output_type": "execute_result"
    }
   ],
   "source": [
    "dofile 'net.lua'"
   ]
  }
 ],
 "metadata": {
  "kernelspec": {
   "display_name": "iTorch",
   "language": "lua",
   "name": "itorch"
  },
  "language_info": {
   "name": "lua",
   "version": "5.1"
  }
 },
 "nbformat": 4,
 "nbformat_minor": 2
}
